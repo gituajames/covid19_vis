{
 "cells": [
  {
   "cell_type": "code",
   "execution_count": 1,
   "metadata": {},
   "outputs": [],
   "source": [
    "import pandas as pd\n",
    "import geopandas as gpd\n",
    "import requests\n",
    "from bs4 import BeautifulSoup as b"
   ]
  },
  {
   "cell_type": "code",
   "execution_count": 2,
   "metadata": {},
   "outputs": [],
   "source": [
    "def table():\n",
    "    r = requests.get('https://ncov2019.live/')\n",
    "    r.status_code\n",
    "    \n",
    "    soup = b(r.text, 'lxml')\n",
    "    \n",
    "    global_ = soup.find('table', attrs={'id': 'sortable_table_global'})\n",
    "    \n",
    "    table_row = global_.find_all('tr')\n",
    "    all_rows = []\n",
    "    for tr in table_row:\n",
    "        td = tr.find_all('td')\n",
    "        row = [i.text.replace('\\n', ' ').strip() for i in td]\n",
    "        all_rows.append(row)\n",
    "        \n",
    "    df = pd.DataFrame(all_rows, columns=['country', 'confirmed', 'changes1', 'changes1(%)', 'deceased', \n",
    "                                     'changes2', 'changes2(%)', 'recovered', 'serious'])\n",
    "    \n",
    "    df.dropna(inplace=True)\n",
    "    df.drop(index=[1], inplace=True)\n",
    "    df.drop(columns=['changes1', 'changes1(%)', 'changes2', 'changes2(%)'], inplace=True)\n",
    "    \n",
    "    copy_df = df.copy()\n",
    "    copy_df['country'] = copy_df['country'].str.replace('★', '')\n",
    "    copy_df['country'] = copy_df['country'].str.strip()\n",
    "    copy_df['confirmed'] = copy_df['confirmed'].str.replace(',', '')\n",
    "    copy_df['deceased'] = copy_df['deceased'].str.replace(',', '')\n",
    "    copy_df['recovered'] = copy_df['recovered'].str.replace(',', '')\n",
    "    copy_df['serious'] = copy_df['serious'].str.replace(',', '')\n",
    "    \n",
    "    copy_df['confirmed'] = copy_df['confirmed'].astype(int)\n",
    "    copy_df['deceased'] = pd.to_numeric(copy_df['deceased'])\n",
    "    copy_df['recovered'] = pd.to_numeric(copy_df['recovered'])\n",
    "    copy_df['serious'] = pd.to_numeric(copy_df['serious'])\n",
    "    \n",
    "    return copy_df\n",
    "    \n",
    "    "
   ]
  },
  {
   "cell_type": "code",
   "execution_count": 3,
   "metadata": {},
   "outputs": [
    {
     "data": {
      "text/html": [
       "<div>\n",
       "<style scoped>\n",
       "    .dataframe tbody tr th:only-of-type {\n",
       "        vertical-align: middle;\n",
       "    }\n",
       "\n",
       "    .dataframe tbody tr th {\n",
       "        vertical-align: top;\n",
       "    }\n",
       "\n",
       "    .dataframe thead th {\n",
       "        text-align: right;\n",
       "    }\n",
       "</style>\n",
       "<table border=\"1\" class=\"dataframe\">\n",
       "  <thead>\n",
       "    <tr style=\"text-align: right;\">\n",
       "      <th></th>\n",
       "      <th>Unnamed: 0</th>\n",
       "      <th>iso_alpha</th>\n",
       "      <th>country</th>\n",
       "    </tr>\n",
       "  </thead>\n",
       "  <tbody>\n",
       "    <tr>\n",
       "      <th>0</th>\n",
       "      <td>11</td>\n",
       "      <td>AFG</td>\n",
       "      <td>Afghanistan</td>\n",
       "    </tr>\n",
       "    <tr>\n",
       "      <th>1</th>\n",
       "      <td>23</td>\n",
       "      <td>ALB</td>\n",
       "      <td>Albania</td>\n",
       "    </tr>\n",
       "    <tr>\n",
       "      <th>2</th>\n",
       "      <td>35</td>\n",
       "      <td>DZA</td>\n",
       "      <td>Algeria</td>\n",
       "    </tr>\n",
       "    <tr>\n",
       "      <th>3</th>\n",
       "      <td>47</td>\n",
       "      <td>AGO</td>\n",
       "      <td>Angola</td>\n",
       "    </tr>\n",
       "    <tr>\n",
       "      <th>4</th>\n",
       "      <td>59</td>\n",
       "      <td>ARG</td>\n",
       "      <td>Argentina</td>\n",
       "    </tr>\n",
       "  </tbody>\n",
       "</table>\n",
       "</div>"
      ],
      "text/plain": [
       "   Unnamed: 0 iso_alpha      country\n",
       "0          11       AFG  Afghanistan\n",
       "1          23       ALB      Albania\n",
       "2          35       DZA      Algeria\n",
       "3          47       AGO       Angola\n",
       "4          59       ARG    Argentina"
      ]
     },
     "execution_count": 3,
     "metadata": {},
     "output_type": "execute_result"
    }
   ],
   "source": [
    "iso_alpha = pd.read_csv('iso_codes')\n",
    "iso_alpha.head()"
   ]
  },
  {
   "cell_type": "code",
   "execution_count": null,
   "metadata": {},
   "outputs": [],
   "source": [
    "data = table()"
   ]
  },
  {
   "cell_type": "code",
   "execution_count": 4,
   "metadata": {},
   "outputs": [
    {
     "ename": "NameError",
     "evalue": "name 'data' is not defined",
     "output_type": "error",
     "traceback": [
      "\u001b[0;31m---------------------------------------------------------------------------\u001b[0m",
      "\u001b[0;31mNameError\u001b[0m                                 Traceback (most recent call last)",
      "\u001b[0;32m<ipython-input-4-94e8c2be8731>\u001b[0m in \u001b[0;36m<module>\u001b[0;34m\u001b[0m\n\u001b[0;32m----> 1\u001b[0;31m \u001b[0mdf_merge_col\u001b[0m \u001b[0;34m=\u001b[0m \u001b[0mpd\u001b[0m\u001b[0;34m.\u001b[0m\u001b[0mmerge\u001b[0m\u001b[0;34m(\u001b[0m\u001b[0mdata\u001b[0m\u001b[0;34m,\u001b[0m \u001b[0miso_alpha\u001b[0m\u001b[0;34m,\u001b[0m \u001b[0mon\u001b[0m\u001b[0;34m=\u001b[0m\u001b[0;34m'country'\u001b[0m\u001b[0;34m)\u001b[0m\u001b[0;34m\u001b[0m\u001b[0;34m\u001b[0m\u001b[0m\n\u001b[0m",
      "\u001b[0;31mNameError\u001b[0m: name 'data' is not defined"
     ]
    }
   ],
   "source": [
    "df_merge_col = pd.merge(data, iso_alpha, on='country')"
   ]
  },
  {
   "cell_type": "code",
   "execution_count": null,
   "metadata": {},
   "outputs": [],
   "source": [
    "df_merge_col.info()"
   ]
  },
  {
   "cell_type": "code",
   "execution_count": null,
   "metadata": {},
   "outputs": [],
   "source": [
    "import plotly.express as px\n",
    "df = df_merge_col\n",
    "fig = px.choropleth(df, locations=\"iso_alpha\", color=\"confirmed\", \n",
    "                    hover_name=\"country\",title='confirmed covid19 cases', projection='natural earth',\n",
    "                   hover_data=['recovered', 'serious', 'deceased'])\n",
    "fig.show()"
   ]
  },
  {
   "cell_type": "code",
   "execution_count": null,
   "metadata": {},
   "outputs": [],
   "source": [
    "fig = px.choropleth(df, locations=\"iso_alpha\", color=\"recovered\", \n",
    "                    hover_name=\"country\",title='recovered covid19 cases', projection='natural earth',\n",
    "                   hover_data=['recovered', 'serious', 'deceased'])\n",
    "fig.show()"
   ]
  },
  {
   "cell_type": "code",
   "execution_count": null,
   "metadata": {},
   "outputs": [],
   "source": [
    "fig = px.choropleth(df, locations=\"iso_alpha\", color=\"serious\", \n",
    "                    hover_name=\"country\",title='serious covid19 cases', projection='natural earth',\n",
    "                   hover_data=['recovered', 'serious', 'deceased'])\n",
    "fig.show()"
   ]
  },
  {
   "cell_type": "code",
   "execution_count": null,
   "metadata": {},
   "outputs": [],
   "source": [
    "fig = px.choropleth(df, locations=\"iso_alpha\", color=\"deceased\", \n",
    "                    hover_name=\"country\",title='deceased covid19 cases', projection='natural earth',\n",
    "                   hover_data=['recovered', 'serious', 'deceased'])\n",
    "fig.show()"
   ]
  },
  {
   "cell_type": "code",
   "execution_count": null,
   "metadata": {},
   "outputs": [],
   "source": []
  }
 ],
 "metadata": {
  "kernelspec": {
   "display_name": "Python 3",
   "language": "python",
   "name": "python3"
  },
  "language_info": {
   "codemirror_mode": {
    "name": "ipython",
    "version": 3
   },
   "file_extension": ".py",
   "mimetype": "text/x-python",
   "name": "python",
   "nbconvert_exporter": "python",
   "pygments_lexer": "ipython3",
   "version": "3.6.9"
  }
 },
 "nbformat": 4,
 "nbformat_minor": 4
}
