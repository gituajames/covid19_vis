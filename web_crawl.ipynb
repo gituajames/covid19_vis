{
 "cells": [
  {
   "cell_type": "code",
   "execution_count": 2,
   "metadata": {},
   "outputs": [],
   "source": [
    "import pandas as pd\n",
    "import geopandas as gpd\n",
    "import requests\n",
    "from bs4 import BeautifulSoup as b"
   ]
  },
  {
   "cell_type": "code",
   "execution_count": null,
   "metadata": {},
   "outputs": [],
   "source": [
    "r = requests.get('https://ncov2019.live/')\n",
    "r.status_code"
   ]
  },
  {
   "cell_type": "code",
   "execution_count": null,
   "metadata": {},
   "outputs": [],
   "source": [
    "soup = b(r.text, 'lxml')\n",
    "# print(soup.prettify())"
   ]
  },
  {
   "cell_type": "code",
   "execution_count": null,
   "metadata": {},
   "outputs": [],
   "source": [
    "# global_ = soup.find('div', attrs={'id':'container_Global'})\n",
    "global_ = soup.find('table', attrs={'id': 'sortable_table_global'})\n",
    "# global_ = soup.find_all('table')\n",
    "# countries = soup.find_all('div', attrs={'id':'container_Global'})\n",
    "# print(global_)"
   ]
  },
  {
   "cell_type": "code",
   "execution_count": null,
   "metadata": {},
   "outputs": [],
   "source": [
    "# get the table\n",
    "# table = global_.table\n",
    "table_row = global_.find_all('tr')\n",
    "all_rows = []\n",
    "for tr in table_row:\n",
    "    td = tr.find_all('td')\n",
    "    row = [i.text.replace('\\n', ' ').strip() for i in td]\n",
    "    all_rows.append(row)\n",
    "df = pd.DataFrame(all_rows, columns=['country', 'confirmed', 'changes1', 'changes1(%)', 'deceased', \n",
    "                                     'changes2', 'changes2(%)', 'recovered', 'serious'])\n",
    "df.head(5)"
   ]
  },
  {
   "cell_type": "code",
   "execution_count": null,
   "metadata": {},
   "outputs": [],
   "source": [
    "pd.isna(df).info()\n",
    "df.dropna(inplace=True)\n",
    "df.drop(index=[1], inplace=True)\n",
    "df.drop(columns=['changes1', 'changes1(%)', 'changes2', 'changes2(%)'], inplace=True)\n",
    "pd.isna(df)\n",
    "# df.info()\n",
    "df.head()"
   ]
  },
  {
   "cell_type": "code",
   "execution_count": null,
   "metadata": {},
   "outputs": [],
   "source": [
    "copy_df = df.copy()\n",
    "\n",
    "copy_df = df.copy()\n",
    "copy_df['country'] = copy_df['country'].str.replace('★', '')\n",
    "copy_df['country'] = copy_df['country'].str.strip()\n",
    "copy_df['confirmed'] = copy_df['confirmed'].str.replace(',', '')\n",
    "copy_df['deceased'] = copy_df['deceased'].str.replace(',', '')\n",
    "copy_df['recovered'] = copy_df['recovered'].str.replace(',', '')\n",
    "copy_df['serious'] = copy_df['serious'].str.replace(',', '')\n",
    "\n",
    "\n",
    "\n",
    "\n",
    "copy_df['confirmed'] = copy_df['confirmed'].astype(int)\n",
    "copy_df['deceased'] = pd.to_numeric(copy_df['deceased'])\n",
    "copy_df['recovered'] = pd.to_numeric(copy_df['recovered'])\n",
    "copy_df['serious'] = pd.to_numeric(copy_df['serious'])\n"
   ]
  },
  {
   "cell_type": "code",
   "execution_count": null,
   "metadata": {},
   "outputs": [],
   "source": [
    "copy_df.info()\n",
    "copy_df.head()"
   ]
  },
  {
   "cell_type": "code",
   "execution_count": null,
   "metadata": {},
   "outputs": [],
   "source": [
    "# copy_df.filter(like='e', axis=0)\n",
    "copy_df.isin(['Kenya'])"
   ]
  },
  {
   "cell_type": "code",
   "execution_count": null,
   "metadata": {},
   "outputs": [],
   "source": [
    "# copy_df.plot(figsize=(20, 20))\n",
    "copy_df.head()"
   ]
  },
  {
   "cell_type": "code",
   "execution_count": 3,
   "metadata": {},
   "outputs": [],
   "source": [
    "def table():\n",
    "    r = requests.get('https://ncov2019.live/')\n",
    "    r.status_code\n",
    "    \n",
    "    soup = b(r.text, 'lxml')\n",
    "    \n",
    "    global_ = soup.find('table', attrs={'id': 'sortable_table_global'})\n",
    "    \n",
    "    table_row = global_.find_all('tr')\n",
    "    all_rows = []\n",
    "    for tr in table_row:\n",
    "        td = tr.find_all('td')\n",
    "        row = [i.text.replace('\\n', ' ').strip() for i in td]\n",
    "        all_rows.append(row)\n",
    "        \n",
    "    df = pd.DataFrame(all_rows, columns=['country', 'confirmed', 'changes1', 'changes1(%)', 'deceased', \n",
    "                                     'changes2', 'changes2(%)', 'recovered', 'serious'])\n",
    "    \n",
    "    df.dropna(inplace=True)\n",
    "    df.drop(index=[1], inplace=True)\n",
    "    df.drop(columns=['changes1', 'changes1(%)', 'changes2', 'changes2(%)'], inplace=True)\n",
    "    \n",
    "    copy_df = df.copy()\n",
    "    copy_df['country'] = copy_df['country'].str.replace('★', '')\n",
    "    copy_df['country'] = copy_df['country'].str.strip()\n",
    "    copy_df['confirmed'] = copy_df['confirmed'].str.replace(',', '')\n",
    "    copy_df['deceased'] = copy_df['deceased'].str.replace(',', '')\n",
    "    copy_df['recovered'] = copy_df['recovered'].str.replace(',', '')\n",
    "    copy_df['serious'] = copy_df['serious'].str.replace(',', '')\n",
    "    \n",
    "    copy_df['confirmed'] = copy_df['confirmed'].astype(int)\n",
    "    copy_df['deceased'] = pd.to_numeric(copy_df['deceased'])\n",
    "    copy_df['recovered'] = pd.to_numeric(copy_df['recovered'])\n",
    "    copy_df['serious'] = pd.to_numeric(copy_df['serious'])\n",
    "    \n",
    "    return copy_df\n",
    "    \n",
    "    "
   ]
  },
  {
   "cell_type": "code",
   "execution_count": 4,
   "metadata": {},
   "outputs": [
    {
     "data": {
      "text/html": [
       "<div>\n",
       "<style scoped>\n",
       "    .dataframe tbody tr th:only-of-type {\n",
       "        vertical-align: middle;\n",
       "    }\n",
       "\n",
       "    .dataframe tbody tr th {\n",
       "        vertical-align: top;\n",
       "    }\n",
       "\n",
       "    .dataframe thead th {\n",
       "        text-align: right;\n",
       "    }\n",
       "</style>\n",
       "<table border=\"1\" class=\"dataframe\">\n",
       "  <thead>\n",
       "    <tr style=\"text-align: right;\">\n",
       "      <th></th>\n",
       "      <th>country</th>\n",
       "      <th>confirmed</th>\n",
       "      <th>deceased</th>\n",
       "      <th>recovered</th>\n",
       "      <th>serious</th>\n",
       "    </tr>\n",
       "  </thead>\n",
       "  <tbody>\n",
       "    <tr>\n",
       "      <th>2</th>\n",
       "      <td>United States</td>\n",
       "      <td>215608</td>\n",
       "      <td>5110</td>\n",
       "      <td>7760.0</td>\n",
       "      <td>4396.0</td>\n",
       "    </tr>\n",
       "    <tr>\n",
       "      <th>3</th>\n",
       "      <td>Italy</td>\n",
       "      <td>110820</td>\n",
       "      <td>13211</td>\n",
       "      <td>16847.0</td>\n",
       "      <td>4035.0</td>\n",
       "    </tr>\n",
       "    <tr>\n",
       "      <th>4</th>\n",
       "      <td>Spain</td>\n",
       "      <td>104118</td>\n",
       "      <td>9387</td>\n",
       "      <td>22647.0</td>\n",
       "      <td>5872.0</td>\n",
       "    </tr>\n",
       "    <tr>\n",
       "      <th>5</th>\n",
       "      <td>China</td>\n",
       "      <td>83095</td>\n",
       "      <td>3312</td>\n",
       "      <td>76412.0</td>\n",
       "      <td>466.0</td>\n",
       "    </tr>\n",
       "    <tr>\n",
       "      <th>6</th>\n",
       "      <td>Germany</td>\n",
       "      <td>78801</td>\n",
       "      <td>933</td>\n",
       "      <td>22758.0</td>\n",
       "      <td>1892.0</td>\n",
       "    </tr>\n",
       "  </tbody>\n",
       "</table>\n",
       "</div>"
      ],
      "text/plain": [
       "         country  confirmed  deceased  recovered  serious\n",
       "2  United States     215608      5110     7760.0   4396.0\n",
       "3          Italy     110820     13211    16847.0   4035.0\n",
       "4          Spain     104118      9387    22647.0   5872.0\n",
       "5          China      83095      3312    76412.0    466.0\n",
       "6        Germany      78801       933    22758.0   1892.0"
      ]
     },
     "execution_count": 4,
     "metadata": {},
     "output_type": "execute_result"
    }
   ],
   "source": [
    "data = table()\n",
    "data.head()"
   ]
  },
  {
   "cell_type": "code",
   "execution_count": 5,
   "metadata": {},
   "outputs": [
    {
     "data": {
      "text/html": [
       "<div>\n",
       "<style scoped>\n",
       "    .dataframe tbody tr th:only-of-type {\n",
       "        vertical-align: middle;\n",
       "    }\n",
       "\n",
       "    .dataframe tbody tr th {\n",
       "        vertical-align: top;\n",
       "    }\n",
       "\n",
       "    .dataframe thead th {\n",
       "        text-align: right;\n",
       "    }\n",
       "</style>\n",
       "<table border=\"1\" class=\"dataframe\">\n",
       "  <thead>\n",
       "    <tr style=\"text-align: right;\">\n",
       "      <th></th>\n",
       "      <th>country</th>\n",
       "      <th>confirmed</th>\n",
       "      <th>deceased</th>\n",
       "      <th>recovered</th>\n",
       "      <th>serious</th>\n",
       "    </tr>\n",
       "  </thead>\n",
       "  <tbody>\n",
       "    <tr>\n",
       "      <th>2</th>\n",
       "      <td>United States</td>\n",
       "      <td>215608</td>\n",
       "      <td>5110</td>\n",
       "      <td>7760.0</td>\n",
       "      <td>4396.0</td>\n",
       "    </tr>\n",
       "    <tr>\n",
       "      <th>3</th>\n",
       "      <td>Italy</td>\n",
       "      <td>110820</td>\n",
       "      <td>13211</td>\n",
       "      <td>16847.0</td>\n",
       "      <td>4035.0</td>\n",
       "    </tr>\n",
       "    <tr>\n",
       "      <th>4</th>\n",
       "      <td>Spain</td>\n",
       "      <td>104118</td>\n",
       "      <td>9387</td>\n",
       "      <td>22647.0</td>\n",
       "      <td>5872.0</td>\n",
       "    </tr>\n",
       "    <tr>\n",
       "      <th>5</th>\n",
       "      <td>China</td>\n",
       "      <td>83095</td>\n",
       "      <td>3312</td>\n",
       "      <td>76412.0</td>\n",
       "      <td>466.0</td>\n",
       "    </tr>\n",
       "    <tr>\n",
       "      <th>6</th>\n",
       "      <td>Germany</td>\n",
       "      <td>78801</td>\n",
       "      <td>933</td>\n",
       "      <td>22758.0</td>\n",
       "      <td>1892.0</td>\n",
       "    </tr>\n",
       "  </tbody>\n",
       "</table>\n",
       "</div>"
      ],
      "text/plain": [
       "         country  confirmed  deceased  recovered  serious\n",
       "2  United States     215608      5110     7760.0   4396.0\n",
       "3          Italy     110820     13211    16847.0   4035.0\n",
       "4          Spain     104118      9387    22647.0   5872.0\n",
       "5          China      83095      3312    76412.0    466.0\n",
       "6        Germany      78801       933    22758.0   1892.0"
      ]
     },
     "execution_count": 5,
     "metadata": {},
     "output_type": "execute_result"
    }
   ],
   "source": [
    "data2 = table()\n",
    "data2.head()"
   ]
  },
  {
   "cell_type": "code",
   "execution_count": 7,
   "metadata": {},
   "outputs": [
    {
     "data": {
      "text/plain": [
       "2      0\n",
       "3      0\n",
       "4      0\n",
       "5      0\n",
       "6      0\n",
       "      ..\n",
       "194    0\n",
       "195    0\n",
       "196    0\n",
       "197    0\n",
       "198    0\n",
       "Name: confirmed, Length: 197, dtype: int64"
      ]
     },
     "execution_count": 7,
     "metadata": {},
     "output_type": "execute_result"
    }
   ],
   "source": [
    "data2['confirmed'] - data['confirmed']"
   ]
  },
  {
   "cell_type": "code",
   "execution_count": null,
   "metadata": {},
   "outputs": [],
   "source": [
    "from mpl_toolkits.basemap import Basemap\n",
    "plt.figure(figsize=(8, 8))\n",
    "m = Basemap(projection='ortho', resolution=None, lat_0=50, lon_0=-100)\n",
    "m.bluemarble(scale=0.5)"
   ]
  },
  {
   "cell_type": "code",
   "execution_count": null,
   "metadata": {},
   "outputs": [],
   "source": []
  }
 ],
 "metadata": {
  "kernelspec": {
   "display_name": "Python 3",
   "language": "python",
   "name": "python3"
  },
  "language_info": {
   "codemirror_mode": {
    "name": "ipython",
    "version": 3
   },
   "file_extension": ".py",
   "mimetype": "text/x-python",
   "name": "python",
   "nbconvert_exporter": "python",
   "pygments_lexer": "ipython3",
   "version": "3.6.9"
  }
 },
 "nbformat": 4,
 "nbformat_minor": 4
}
